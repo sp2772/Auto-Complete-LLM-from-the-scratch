{
 "cells": [
  {
   "cell_type": "code",
   "execution_count": 54,
   "metadata": {},
   "outputs": [],
   "source": [
    "import torch\n",
    "import torch.nn as nn\n",
    "from torch.nn import functional as F"
   ]
  },
  {
   "cell_type": "code",
   "execution_count": 55,
   "metadata": {},
   "outputs": [
    {
     "name": "stdout",
     "output_type": "stream",
     "text": [
      "cuda\n"
     ]
    }
   ],
   "source": [
    "device ='cuda' if torch.cuda.is_available() else 'cpu'\n",
    "print(device)"
   ]
  },
  {
   "cell_type": "code",
   "execution_count": 56,
   "metadata": {},
   "outputs": [],
   "source": [
    "block_size= 8\n",
    "batch_size= 4\n",
    "max_iters = 10000\n",
    "learning_rate = 3e-4\n",
    "eval_iters =1000\n"
   ]
  },
  {
   "cell_type": "code",
   "execution_count": 57,
   "metadata": {},
   "outputs": [
    {
     "name": "stdout",
     "output_type": "stream",
     "text": [
      "['\\n', ' ', '!', '\"', '&', \"'\", '(', ')', '*', ',', '-', '.', '0', '1', '2', '3', '4', '5', '6', '7', '8', '9', ':', ';', '?', 'A', 'B', 'C', 'D', 'E', 'F', 'G', 'H', 'I', 'J', 'K', 'L', 'M', 'N', 'O', 'P', 'Q', 'R', 'S', 'T', 'U', 'V', 'W', 'X', 'Y', 'Z', '[', ']', '_', 'a', 'b', 'c', 'd', 'e', 'f', 'g', 'h', 'i', 'j', 'k', 'l', 'm', 'n', 'o', 'p', 'q', 'r', 's', 't', 'u', 'v', 'w', 'x', 'y', 'z', '\\ufeff']\n"
     ]
    }
   ],
   "source": [
    "with open(\"wizard_of_oz.txt\",'r',encoding='utf-8') as f:\n",
    "    text= f.read()\n",
    "\n",
    "chars = sorted(set(text))\n",
    "print(chars)\n",
    "vocab_size=len(chars)"
   ]
  },
  {
   "cell_type": "code",
   "execution_count": 58,
   "metadata": {
    "scrolled": true
   },
   "outputs": [
    {
     "name": "stdout",
     "output_type": "stream",
     "text": [
      "tensor([80,  1,  1, 28, 39, 42, 39, 44, 32, 49,  1, 25, 38, 28,  1, 44, 32, 29,\n",
      "         1, 47, 33, 50, 25, 42, 28,  1, 33, 38,  1, 39, 50,  0,  0,  1,  1, 26,\n",
      "        49,  0,  0,  1,  1, 36, 11,  1, 30, 42, 25, 38, 35,  1, 26, 25, 45, 37,\n",
      "         0,  0,  1,  1, 25, 45, 44, 32, 39, 42,  1, 39, 30,  1, 44, 32, 29,  1,\n",
      "        47, 33, 50, 25, 42, 28,  1, 39, 30,  1, 39, 50,  9,  1, 44, 32, 29,  1,\n",
      "        36, 25, 38, 28,  1, 39, 30,  1, 39, 50])\n"
     ]
    }
   ],
   "source": [
    "string_to_int = {ch : i for i,ch in enumerate(chars)}\n",
    "int_to_string = { i:ch for i,ch in enumerate(chars)}\n",
    "encode= lambda s: [string_to_int[c] for c in s]\n",
    "decode = lambda l: ''.join([int_to_string[i] for i in l])\n",
    "\n",
    "data = torch.tensor(encode(text), dtype=torch.long)\n",
    "\n",
    "#encoded_hello=encode('hello')\n",
    "#decoded_hello= decode(encoded_hello)\n",
    "#print(encoded_hello)\n",
    "#print(decoded_hello)\n",
    "\n",
    "print(data[:100])\n"
   ]
  },
  {
   "cell_type": "code",
   "execution_count": 59,
   "metadata": {},
   "outputs": [
    {
     "name": "stdout",
     "output_type": "stream",
     "text": [
      "inputs:\n",
      " tensor([[ 5, 72,  1, 54,  1, 78, 58, 65],\n",
      "        [71, 54, 73, 62, 68, 67, 22,  1],\n",
      "        [67,  1, 73, 61, 58,  1, 76, 62],\n",
      "        [ 0,  3, 49, 68, 74,  1, 66, 74]], device='cuda:0') \n",
      "targets:\n",
      " tensor([[72,  1, 54,  1, 78, 58, 65, 65],\n",
      "        [54, 73, 62, 68, 67, 22,  1, 44],\n",
      "        [ 1, 73, 61, 58,  1, 76, 62, 67],\n",
      "        [ 3, 49, 68, 74,  1, 66, 74, 72]], device='cuda:0')\n"
     ]
    }
   ],
   "source": [
    "n= int(0.8*len(data))\n",
    "train_data = data[:n]\n",
    "val_data =data[n:]\n",
    "\n",
    "def get_batch(split):\n",
    "    data= train_data if split == 'train' else val_data\n",
    "    ix = torch.randint(len(data) - block_size, (batch_size,))\n",
    "    x= torch.stack([data[i:i+block_size] for i in ix])\n",
    "    y= torch.stack([data[i+1:i+block_size+1] for i in ix])\n",
    "    x,y = x.to(device), y.to(device)\n",
    "    return x,y\n",
    "\n",
    "x,y = get_batch('train')\n",
    "print(\"inputs:\\n\",x,\"\\ntargets:\\n\",y)\n",
    "    "
   ]
  },
  {
   "cell_type": "code",
   "execution_count": 60,
   "metadata": {},
   "outputs": [
    {
     "name": "stdout",
     "output_type": "stream",
     "text": [
      "when input is  tensor([80]) target is  tensor(1)\n",
      "when input is  tensor([80,  1]) target is  tensor(1)\n",
      "when input is  tensor([80,  1,  1]) target is  tensor(28)\n",
      "when input is  tensor([80,  1,  1, 28]) target is  tensor(39)\n",
      "when input is  tensor([80,  1,  1, 28, 39]) target is  tensor(42)\n",
      "when input is  tensor([80,  1,  1, 28, 39, 42]) target is  tensor(39)\n",
      "when input is  tensor([80,  1,  1, 28, 39, 42, 39]) target is  tensor(44)\n",
      "when input is  tensor([80,  1,  1, 28, 39, 42, 39, 44]) target is  tensor(32)\n"
     ]
    }
   ],
   "source": [
    "\n",
    "x= train_data[:block_size]\n",
    "y= train_data[1:block_size+1]\n",
    "\n",
    "for t in range(block_size):\n",
    "    context= x[:t+1]\n",
    "    target= y[t]\n",
    "    print(\"when input is \", context, 'target is ',target)"
   ]
  },
  {
   "cell_type": "code",
   "execution_count": 61,
   "metadata": {},
   "outputs": [],
   "source": [
    "@torch.no_grad()\n",
    "def estimate_loss():\n",
    "    out= {}\n",
    "    model.eval()\n",
    "    for split in ['train','val']:\n",
    "        losses = torch.zeros(eval_iters)\n",
    "        for k in range(eval_iters):\n",
    "            X,Y = get_batch(split)\n",
    "            logits,loss= model(X,Y)\n",
    "            losses[k] = loss.item()\n",
    "        out[split] = losses.mean()\n",
    "    model.train()\n",
    "    return out"
   ]
  },
  {
   "cell_type": "code",
   "execution_count": 62,
   "metadata": {},
   "outputs": [
    {
     "name": "stdout",
     "output_type": "stream",
     "text": [
      "\n",
      "k7XkBKDxn5geal'Vn-3MHi7-a0uuDhqOboh?tg9,k8Q!Bhj[uYqUbMP&m)SWly'JkXPi7'.XWCy]tKEUMHCdj(Qtcp1zg0Ibdizsw2b﻿sET)wS!V,fFJ6RZsc]\"ZNrJs(90Oux4Q&2n)THE(6Z*fZF.gWG;7eu7pGgij*ZeQ6a;A.c]60']3Rkm)8\"2?XblYuiEo,Dwa _,XZS]O[W﻿9WCmrxx[1GplJwaJmnN;j0'iFVr\"-Sgu5nJk[(WKgvR3mZp!VLv?'b8bdH*J.O O'waYpeKP&p-z?54;nEHEzNH?3Qsu4-i7pAKmFwDghC2no[:GP)o\n",
      "_0z\"IGhhIXb﻿J6cLvqjUD:N7l&uQU;scb8\"&!SokPK39:O\"IrXMdzkNF0!_o\n",
      "rGC!STjFVUf_ShXb h\"lhjm6ScLv:g1hITekOfNnTtvl9g17eQShjS&EIB SHzP.)o?a1nH&﻿iC\n",
      "4Vg-gWkXc]P6QYySH5A-.::3 _V7sbs﻿(b\"!\n"
     ]
    }
   ],
   "source": [
    "class BigramLanguageModel(nn.Module):\n",
    "    def __init__(self,vocab_size):\n",
    "        super().__init__()\n",
    "        self.token_embedding_table = nn.Embedding(vocab_size,vocab_size)    #embedding table of the bigrams \n",
    "        #Eg: if 'a followed by c' is more likely to accur than 'a followed by d', then the value of box along row representing 'a' and \n",
    "        #column representing 'c' will be greater than the value of box along row representing 'a' and column representating 'd' in\n",
    "        #the embedding table (thats why we need vocab_size x vocab_size table to include all such pairs (bigrams))\n",
    "        \n",
    "    def forward(self, index,targets=None):\n",
    "        logits = self.token_embedding_table(index)   #the normalized probability distribution of the bigrams \n",
    "        \n",
    "\n",
    "        if targets is None:\n",
    "            loss= None\n",
    "        else:\n",
    "            #Batch dimension, Time dimension (we dont know yet), Channels or Class dimension - vocab size\n",
    "            B, T, C = logits.shape\n",
    "            \n",
    "            logits = logits.view(B*T, C)  #blend B and T (alter shape of the tensor according to the input expectation of cross_entropy() using view() ) \n",
    "            targets = targets.view(B*T)       \n",
    "            loss = F.cross_entropy(logits, targets)\n",
    "        return logits, loss\n",
    "\n",
    "    def generate(self, index, max_new_tokens):\n",
    "        #index is the (B,T) array of indices in the current context\n",
    "\n",
    "        for i in range(max_new_tokens):\n",
    "            #get the prediction\n",
    "            logits, loss = self.forward(index)\n",
    "\n",
    "            #focus on last time step alone\n",
    "            logits = logits[:,-1,:] #becomes (B,C)\n",
    "\n",
    "            #apply softmax to get probabilities\n",
    "            probs = F.softmax(logits,dim=-1) \n",
    "            #sample from the distribution\n",
    "            index_next = torch.multinomial(probs, num_samples=1) #(B,1)\n",
    "            #append sampled index to the running sequence\n",
    "            index=torch.cat((index,index_next),dim=1) #(B,T+1)\n",
    "        return index\n",
    "model = BigramLanguageModel(vocab_size)\n",
    "m = model.to(device)\n",
    "\n",
    "context = torch.zeros((1,1), dtype = torch.long, device=device)\n",
    "generated_chars = decode(m.generate(context,max_new_tokens=500)[0].tolist())\n",
    "print(generated_chars)\n",
    "\n",
    "\n",
    "        "
   ]
  },
  {
   "cell_type": "code",
   "execution_count": 68,
   "metadata": {},
   "outputs": [
    {
     "name": "stdout",
     "output_type": "stream",
     "text": [
      "step:0,train losses:2.655 val losses: 2.682\n",
      "step:1000,train losses:2.633 val losses: 2.661\n",
      "step:2000,train losses:2.603 val losses: 2.633\n",
      "step:3000,train losses:2.592 val losses: 2.621\n",
      "step:4000,train losses:2.573 val losses: 2.598\n",
      "step:5000,train losses:2.561 val losses: 2.600\n",
      "step:6000,train losses:2.539 val losses: 2.585\n",
      "step:7000,train losses:2.540 val losses: 2.583\n",
      "step:8000,train losses:2.541 val losses: 2.560\n",
      "step:9000,train losses:2.512 val losses: 2.556\n",
      "2.455850839614868\n"
     ]
    }
   ],
   "source": [
    "optimizer = torch.optim.AdamW(model.parameters(), lr= learning_rate)\n",
    "\n",
    "for iter in range(max_iters):\n",
    "    if iter%eval_iters == 0:\n",
    "        losses = estimate_loss()\n",
    "        print(f\"step:{iter},train losses:{losses['train']:.3f} val losses: {losses['val']:.3f}\")\n",
    "    #sample a batch of data\n",
    "    xb, yb = get_batch('train')\n",
    "\n",
    "    logits,loss = model.forward(xb,yb)\n",
    "    optimizer.zero_grad(set_to_none=True)        #mot for RNN's, previously accumulated gradients wont affect current training if set_to_none is True\n",
    "    loss.backward()\n",
    "    optimizer.step()\n",
    "\n",
    "print(loss.item())"
   ]
  },
  {
   "cell_type": "code",
   "execution_count": 69,
   "metadata": {},
   "outputs": [
    {
     "name": "stdout",
     "output_type": "stream",
     "text": [
      "\n",
      "BzP&Bmjt t thanwad.\n",
      "_I th\n",
      "sa mifingge snd ad bon grid sh:Mcoutu d ant yerlas st\n",
      "\"Wnour pu IAPAate;L*\n",
      "\"Aurerdd h\n",
      "d m wicut l B[j0VE. a y\n",
      "\n",
      "\" jKpe shemor u, atid any n a, are crmillithodbothy.Oza h.\n",
      "eonss cls e ut avofth ils ou y thhHed frondnthear  brld bus: d Whemun bleb DE4TEpe \" wer\n",
      "forode 6res.\n",
      "sar ingsoind ors medore  thtin;din h he s t I]3Oin-Hbu therops thesewr suthy,-'res,\"I the caylowQ! s.\n",
      "\n",
      "\"B(JWen he unore o;;;ld t'carnds.\"be fan.\"\n",
      "Bluriller t t tontmited bre ary st ect-M*\"\n",
      "the cr.\n",
      "ender\n"
     ]
    }
   ],
   "source": [
    "context = torch.zeros((1,1), dtype = torch.long, device=device)\n",
    "generated_chars = decode(m.generate(context,max_new_tokens=500)[0].tolist())\n",
    "print(generated_chars)\n"
   ]
  },
  {
   "cell_type": "code",
   "execution_count": null,
   "metadata": {},
   "outputs": [],
   "source": []
  }
 ],
 "metadata": {
  "kernelspec": {
   "display_name": "cuda-gpt",
   "language": "python",
   "name": "cuda"
  },
  "language_info": {
   "codemirror_mode": {
    "name": "ipython",
    "version": 3
   },
   "file_extension": ".py",
   "mimetype": "text/x-python",
   "name": "python",
   "nbconvert_exporter": "python",
   "pygments_lexer": "ipython3",
   "version": "3.9.13"
  }
 },
 "nbformat": 4,
 "nbformat_minor": 4
}
